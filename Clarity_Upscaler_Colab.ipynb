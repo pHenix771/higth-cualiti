{
 "cells": [
  {
   "cell_type": "markdown",
   "metadata": {
    "id": "clarity-header"
   },
   "source": [
    "# 🔎 Clarity AI | Image Upscaler & Enhancer\n",
    "\n",
    "### Free and open-source Magnific Alternative for Google Colab\n",
    "\n",
    "[![GitHub](https://img.shields.io/badge/GitHub-philz1337x/clarity--upscaler-blue?logo=github)](https://github.com/philz1337x/clarity-upscaler)\n",
    "[![Website](https://img.shields.io/badge/Website-ClarityAI.co-blueviolet)](https://clarityai.co/)\n",
    "\n",
    "---\n",
    "\n",
    "**Instrucciones:**\n",
    "1. Ejecuta las celdas en orden\n",
    "2. La instalación puede tomar 5-10 minutos en la primera ejecución\n",
    "3. Una vez completada la instalación, se abrirá la interfaz web\n",
    "4. ¡Disfruta haciendo upscaling de tus imágenes con IA!\n",
    "\n",
    "---\n"
   ]
  },
  {
   "cell_type": "markdown",
   "metadata": {
    "id": "step-1"
   },
   "source": [
    "## 📋 Paso 1: Verificar GPU y Preparar Entorno"
   ]
  },
  {
   "cell_type": "code",
   "execution_count": null,
   "metadata": {
    "id": "check-gpu"
   },
   "outputs": [],
   "source": [
    "# Verificar GPU disponible\n",
    "import torch\n",
    "import os\n",
    "\n",
    "print(\"🔧 Verificando configuración del sistema...\")\n",
    "print(f\"Python version: {torch.__version__}\")\n",
    "\n",
    "if torch.cuda.is_available():\n",
    "    gpu_name = torch.cuda.get_device_name(0)\n",
    "    gpu_memory = torch.cuda.get_device_properties(0).total_memory / 1e9\n",
    "    print(f\"✅ GPU detectada: {gpu_name}\")\n",
    "    print(f\"🚀 Memoria GPU: {gpu_memory:.1f} GB\")\n",
    "else:\n",
    "    print(\"⚠️  ¡ADVERTENCIA! No se detectó GPU. Asegúrate de tener GPU habilitada en Colab.\")\n",
    "    print(\"Ve a Runtime → Change runtime type → Hardware accelerator → GPU\")\n",
    "\n",
    "# Configurar variables de entorno\n",
    "os.environ['CUDA_VISIBLE_DEVICES'] = '0'\n",
    "os.environ['PYTORCH_CUDA_ALLOC_CONF'] = 'max_split_size_mb:128'\n",
    "\n",
    "print(\"\\n🎯 Entorno configurado correctamente!\")"
   ]
  },
  {
   "cell_type": "markdown",
   "metadata": {
    "id": "step-2"
   },
   "source": [
    "## 🛠️ Paso 2: Instalación de Dependencias"
   ]
  },
  {
   "cell_type": "code",
   "execution_count": null,
   "metadata": {
    "id": "install-deps"
   },
   "outputs": [],
   "source": [
    "# Actualizar pip y instalar dependencias básicas\n",
    "print(\"📦 Instalando dependencias básicas...\")\n",
    "!pip install -q --upgrade pip\n",
    "!pip install -q wheel setuptools\n",
    "\n",
    "# Instalar PyTorch con soporte CUDA (optimizado para Colab)\n",
    "print(\"🔥 Instalando PyTorch con soporte CUDA...\")\n",
    "!pip install -q torch torchvision torchaudio --index-url https://download.pytorch.org/whl/cu118\n",
    "\n",
    "# Instalar otras dependencias críticas\n",
    "print(\"⚡ Instalando dependencias de ML y visión...\")\n",
    "!pip install -q transformers==4.30.2\n",
    "!pip install -q accelerate\n",
    "!pip install -q diffusers\n",
    "!pip install -q xformers --index-url https://download.pytorch.org/whl/cu118\n",
    "\n",
    "print(\"✅ Dependencias básicas instaladas!\")"
   ]
  },
  {
   "cell_type": "markdown",
   "metadata": {
    "id": "step-3"
   },
   "source": [
    "## 📥 Paso 3: Clonar Repositorio e Instalar Dependencias Específicas"
   ]
  },
  {
   "cell_type": "code",
   "execution_count": null,
   "metadata": {
    "id": "clone-repo"
   },
   "outputs": [],
   "source": [
    "import os\n",
    "import subprocess\n",
    "\n",
    "# Cambiar al directorio temporal de Colab\n",
    "os.chdir('/content')\n",
    "\n",
    "# Clonar el repositorio si no existe\n",
    "if not os.path.exists('clarity-upscaler'):\n",
    "    print(\"📂 Clonando repositorio Clarity-Upscaler...\")\n",
    "    !git clone https://github.com/philz1337x/clarity-upscaler.git\n",
    "else:\n",
    "    print(\"📁 Repositorio ya existe, actualizando...\")\n",
    "    os.chdir('clarity-upscaler')\n",
    "    !git pull\n",
    "    os.chdir('/content')\n",
    "\n",
    "# Cambiar al directorio del proyecto\n",
    "os.chdir('/content/clarity-upscaler')\n",
    "\n",
    "print(\"✅ Repositorio listo!\")"
   ]
  },
  {
   "cell_type": "code",
   "execution_count": null,
   "metadata": {
    "id": "install-requirements"
   },
   "outputs": [],
   "source": [
    "# Instalar dependencias específicas del proyecto\n",
    "print(\"📋 Instalando requirements.txt...\")\n",
    "\n",
    "# Leer e instalar requirements con manejo de errores\n",
    "try:\n",
    "    with open('requirements.txt', 'r') as f:\n",
    "        requirements = f.read().splitlines()\n",
    "    \n",
    "    # Filtrar líneas vacías y comentarios\n",
    "    requirements = [req.strip() for req in requirements if req.strip() and not req.startswith('#')]\n",
    "    \n",
    "    # Instalar cada requirement individualmente para mejor control de errores\n",
    "    failed_packages = []\n",
    "    for req in requirements:\n",
    "        try:\n",
    "            print(f\"Installing: {req}\")\n",
    "            result = subprocess.run(['pip', 'install', '-q', req], \n",
    "                                  capture_output=True, text=True, timeout=300)\n",
    "            if result.returncode != 0:\n",
    "                print(f\"⚠️  Warning: Failed to install {req}\")\n",
    "                failed_packages.append(req)\n",
    "        except Exception as e:\n",
    "            print(f\"⚠️  Error installing {req}: {str(e)}\")\n",
    "            failed_packages.append(req)\n",
    "    \n",
    "    if failed_packages:\n",
    "        print(f\"\\n⚠️  Packages que fallaron: {failed_packages}\")\n",
    "        print(\"🔄 Intentando instalación alternativa...\")\n",
    "        for pkg in failed_packages:\n",
    "            !pip install -q --no-deps {pkg}\n",
    "    \n",
    "except Exception as e:\n",
    "    print(f\"Error reading requirements.txt: {e}\")\n",
    "    # Fallback: instalar dependencias críticas manualmente\n",
    "    critical_deps = [\n",
    "        'gradio==3.41.2', 'fastapi', 'pillow', 'numpy', 'opencv-python',\n",
    "        'scipy', 'scikit-image', 'omegaconf', 'einops', 'safetensors'\n",
    "    ]\n",
    "    for dep in critical_deps:\n",
    "        !pip install -q {dep}\n",
    "\n",
    "print(\"\\n✅ Dependencias instaladas (con posibles warnings menores)!\")"
   ]
  },
  {
   "cell_type": "markdown",
   "metadata": {
    "id": "step-4"
   },
   "source": [
    "## 🤖 Paso 4: Descargar Modelos Necesarios"
   ]
  },
  {
   "cell_type": "code",
   "execution_count": null,
   "metadata": {
    "id": "download-models"
   },
   "outputs": [],
   "source": [
    "import os\n",
    "import urllib.request\n",
    "from pathlib import Path\n",
    "\n",
    "print(\"🤖 Descargando modelos necesarios...\")\n",
    "\n",
    "# Crear directorios necesarios\n",
    "os.makedirs('models/Stable-diffusion', exist_ok=True)\n",
    "os.makedirs('models/ControlNet', exist_ok=True)\n",
    "os.makedirs('models/Lora', exist_ok=True)\n",
    "os.makedirs('models/ESRGAN', exist_ok=True)\n",
    "\n",
    "# Ejecutar el script de descarga de pesos si existe\n",
    "if os.path.exists('download_weights.py'):\n",
    "    print(\"⬇️  Ejecutando download_weights.py...\")\n",
    "    try:\n",
    "        !python download_weights.py\n",
    "    except Exception as e:\n",
    "        print(f\"⚠️  Warning en download_weights.py: {e}\")\n",
    "\n",
    "# Verificar si se descargaron modelos básicos\n",
    "model_files = list(Path('models').rglob('*.safetensors')) + list(Path('models').rglob('*.ckpt'))\n",
    "if model_files:\n",
    "    print(f\"✅ Se encontraron {len(model_files)} archivos de modelo\")\n",
    "else:\n",
    "    print(\"⚠️  No se encontraron modelos específicos, pero el sistema puede descargarlos automáticamente\")\n",
    "\n",
    "print(\"🎯 Preparación de modelos completada!\")"
   ]
  },
  {
   "cell_type": "markdown",
   "metadata": {
    "id": "step-5"
   },
   "source": [
    "## ⚙️ Paso 5: Configuración para Google Colab"
   ]
  },
  {
   "cell_type": "code",
   "execution_count": null,
   "metadata": {
    "id": "colab-config"
   },
   "outputs": [],
   "source": [
    "import os\n",
    "import sys\n",
    "\n",
    "# Agregar el directorio actual al path de Python\n",
    "current_dir = os.getcwd()\n",
    "if current_dir not in sys.path:\n",
    "    sys.path.append(current_dir)\n",
    "\n",
    "# Configurar variables de entorno específicas para Colab\n",
    "os.environ['GRADIO_SERVER_NAME'] = '0.0.0.0'\n",
    "os.environ['GRADIO_SERVER_PORT'] = '7860'\n",
    "os.environ['COLAB_TPU_ADDR'] = ''\n",
    "os.environ['CUDA_LAUNCH_BLOCKING'] = '1'\n",
    "\n",
    "# Configuraciones de memoria para optimizar en Colab\n",
    "os.environ['PYTORCH_CUDA_ALLOC_CONF'] = 'max_split_size_mb:128'\n",
    "os.environ['CUDA_VISIBLE_DEVICES'] = '0'\n",
    "\n",
    "# Configurar para que no abra automáticamente el navegador\n",
    "os.environ['SD_WEBUI_RESTARTING'] = '1'\n",
    "\n",
    "print(\"⚙️  Configuración de Colab aplicada\")\n",
    "print(f\"📍 Directorio de trabajo: {current_dir}\")\n",
    "print(\"✅ Listo para lanzar la interfaz!\")"
   ]
  },
  {
   "cell_type": "markdown",
   "metadata": {
    "id": "step-6"
   },
   "source": [
    "## 🚀 Paso 6: Lanzar Clarity Upscaler"
   ]
  },
  {
   "cell_type": "code",
   "execution_count": null,
   "metadata": {
    "id": "launch-app"
   },
   "outputs": [],
   "source": [
    "import sys\n",
    "import os\n",
    "import subprocess\n",
    "import threading\n",
    "import time\n",
    "\n",
    "print(\"🚀 Lanzando Clarity Upscaler...\")\n",
    "print(\"⏰ Esto puede tomar un momento para cargar todos los modelos...\")\n",
    "\n",
    "# Cambiar al directorio correcto\n",
    "os.chdir('/content/clarity-upscaler')\n",
    "\n",
    "# Crear un script de lanzamiento personalizado para Colab\n",
    "launch_script = '''\n",
    "import os\n",
    "import sys\n",
    "\n",
    "# Configurar argumentos de línea de comandos para Colab\n",
    "sys.argv = [\n",
    "    \"webui.py\",\n",
    "    \"--listen\",\n",
    "    \"--port\", \"7860\",\n",
    "    \"--share\",\n",
    "    \"--enable-insecure-extension-access\",\n",
    "    \"--no-half-vae\",\n",
    "    \"--no-download-sd-model\",\n",
    "    \"--opt-split-attention\",\n",
    "    \"--disable-console-progressbars\"\n",
    "]\n",
    "\n",
    "# Importar y ejecutar el webui principal\n",
    "exec(open('webui.py').read())\n",
    "'''\n",
    "\n",
    "# Escribir el script de lanzamiento\n",
    "with open('launch_colab.py', 'w') as f:\n",
    "    f.write(launch_script)\n",
    "\n",
    "try:\n",
    "    # Lanzar la aplicación\n",
    "    print(\"🔄 Iniciando servidor...\")\n",
    "    process = subprocess.Popen(\n",
    "        [sys.executable, 'launch_colab.py'],\n",
    "        stdout=subprocess.PIPE,\n",
    "        stderr=subprocess.STDOUT,\n",
    "        text=True,\n",
    "        bufsize=1,\n",
    "        universal_newlines=True\n",
    "    )\n",
    "    \n",
    "    # Función para leer la salida en tiempo real\n",
    "    def read_output():\n",
    "        for line in iter(process.stdout.readline, ''):\n",
    "            print(line.strip())\n",
    "            if 'Running on public URL:' in line or 'public URL' in line:\n",
    "                print(\"\\n🎉 ¡Clarity Upscaler está listo!\")\n",
    "                print(\"🌐 Haz clic en el enlace público arriba para acceder a la interfaz\")\n",
    "                print(\"📝 Nota: La primera vez puede tardar más en cargar los modelos\")\n",
    "    \n",
    "    # Ejecutar lectura en hilo separado\n",
    "    thread = threading.Thread(target=read_output)\n",
    "    thread.daemon = True\n",
    "    thread.start()\n",
    "    \n",
    "    # Esperar un momento para que el proceso inicie\n",
    "    time.sleep(10)\n",
    "    \n",
    "    print(\"\\n⏳ Si no ves la URL pública después de unos minutos, revisa los logs arriba...\")\n",
    "    print(\"🔧 El proceso puede tardar en descargar modelos la primera vez\")\n",
    "    \n",
    "    # Mantener el proceso corriendo\n",
    "    try:\n",
    "        process.wait()\n",
    "    except KeyboardInterrupt:\n",
    "        print(\"\\n🛑 Deteniendo servidor...\")\n",
    "        process.terminate()\n",
    "        \n",
    "except Exception as e:\n",
    "    print(f\"❌ Error al lanzar la aplicación: {e}\")\n",
    "    print(\"\\n🔧 Intentando método alternativo...\")\n",
    "    \n",
    "    # Método alternativo: lanzar directamente webui.py con argumentos\n",
    "    !python webui.py --listen --port 7860 --share --enable-insecure-extension-access --no-half-vae"
   ]
  },
  {
   "cell_type": "markdown",
   "metadata": {
    "id": "step-7"
   },
   "source": [
    "## 🔧 Paso 7: Troubleshooting y Comandos Útiles"
   ]
  },
  {
   "cell_type": "code",
   "execution_count": null,
   "metadata": {
    "id": "troubleshooting"
   },
   "outputs": [],
   "source": [
    "# Ejecutar esta celda solo si tienes problemas con el lanzamiento anterior\n",
    "\n",
    "import os\n",
    "import torch\n",
    "\n",
    "print(\"🔧 Información de diagnóstico:\")\n",
    "print(f\"📍 Directorio actual: {os.getcwd()}\")\n",
    "print(f\"🐍 Python path: {os.environ.get('PYTHONPATH', 'No configurado')}\")\n",
    "print(f\"🔥 PyTorch version: {torch.__version__}\")\n",
    "print(f\"⚡ CUDA disponible: {torch.cuda.is_available()}\")\n",
    "\n",
    "if torch.cuda.is_available():\n",
    "    print(f\"🎮 GPU: {torch.cuda.get_device_name(0)}\")\n",
    "    print(f\"💾 Memoria GPU libre: {torch.cuda.get_device_properties(0).total_memory / 1e9:.1f} GB\")\n",
    "\n",
    "# Verificar archivos críticos\n",
    "critical_files = ['webui.py', 'requirements.txt', 'modules']\n",
    "print(\"\\n📁 Verificando archivos críticos:\")\n",
    "for file in critical_files:\n",
    "    exists = os.path.exists(file)\n",
    "    print(f\"{'✅' if exists else '❌'} {file}: {'Existe' if exists else 'No encontrado'}\")\n",
    "\n",
    "print(\"\\n💡 Si sigues teniendo problemas:\")\n",
    "print(\"1. Reinicia el runtime (Runtime → Restart runtime)\")\n",
    "print(\"2. Ejecuta todas las celdas nuevamente en orden\")\n",
    "print(\"3. Asegúrate de tener GPU habilitada en Colab\")"
   ]
  },
  {
   "cell_type": "markdown",
   "metadata": {
    "id": "step-8"
   },
   "source": [
    "## 🎯 Método Alternativo de Lanzamiento (Solo si el anterior falla)"
   ]
  },
  {
   "cell_type": "code",
   "execution_count": null,
   "metadata": {
    "id": "alternative-launch"
   },
   "outputs": [],
   "source": [
    "# Método alternativo más directo\n",
    "import os\n",
    "import sys\n",
    "\n",
    "print(\"🔄 Método alternativo de lanzamiento...\")\n",
    "\n",
    "os.chdir('/content/clarity-upscaler')\n",
    "\n",
    "# Configurar argumentos\n",
    "os.environ['COMMANDLINE_ARGS'] = '--listen --port 7860 --share --enable-insecure-extension-access --no-half-vae --opt-split-attention'\n",
    "\n",
    "# Lanzar directamente con argumentos de línea de comandos\n",
    "!python webui.py --listen --port 7860 --share --enable-insecure-extension-access --no-half-vae --opt-split-attention --disable-console-progressbars"
   ]
  },
  {
   "cell_type": "markdown",
   "metadata": {
    "id": "usage-info"
   },
   "source": [
    "---\n",
    "\n",
    "## 📖 Cómo Usar Clarity Upscaler\n",
    "\n",
    "Una vez que la interfaz esté ejecutándose:\n",
    "\n",
    "1. **Subir imagen**: Haz clic en el área de subida para seleccionar tu imagen\n",
    "2. **Configurar parámetros**: Ajusta la configuración según tus necesidades\n",
    "3. **Generar**: Haz clic en generar y espera el resultado\n",
    "4. **Descargar**: Una vez completado, descarga tu imagen mejorada\n",
    "\n",
    "### 💡 Consejos para Mejores Resultados:\n",
    "- Usa imágenes de buena calidad como entrada\n",
    "- Experimenta con diferentes configuraciones\n",
    "- Ten paciencia: el proceso puede tomar varios minutos\n",
    "- En Colab gratuito, las imágenes muy grandes pueden agotar la memoria\n",
    "\n",
    "### 🚨 Limitaciones en Colab Gratuito:\n",
    "- Memoria GPU limitada (~15GB)\n",
    "- Tiempo de sesión limitado (~12 horas)\n",
    "- Puede desconectarse por inactividad\n",
    "\n",
    "---\n",
    "\n",
    "**🌟 ¡Disfruta mejorando tus imágenes con IA!**\n",
    "\n",
    "Si encuentras útil este notebook, considera darle una estrella al [repositorio original](https://github.com/philz1337x/clarity-upscaler) ⭐"
   ]
  }
 ],
 "metadata": {
  "accelerator": "GPU",
  "colab": {
   "gpuType": "T4",
   "provenance": []
  },
  "kernelspec": {
   "display_name": "Python 3",
   "name": "python3"
  },
  "language_info": {
   "name": "python"
  }
 },
 "nbformat": 4,
 "nbformat_minor": 0
}